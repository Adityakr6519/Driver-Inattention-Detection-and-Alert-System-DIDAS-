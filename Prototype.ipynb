{
 "cells": [
  {
   "cell_type": "markdown",
   "id": "704803e1",
   "metadata": {},
   "source": [
    "**Simple Prototype of the model**"
   ]
  },
  {
   "cell_type": "markdown",
   "id": "b7b94142",
   "metadata": {},
   "source": [
    "<img src=\"https://www.shutterstock.com/image-photo/chiang-mai-thailand-may-23-600nw-2306918741.jpg\" alt=\"Alt text\" style=\"width: 400px;\"/>\n"
   ]
  },
  {
   "cell_type": "markdown",
   "id": "af2a18cb",
   "metadata": {},
   "source": [
    "**Importing the libraries**"
   ]
  },
  {
   "cell_type": "code",
   "execution_count": 1,
   "id": "6feaae37",
   "metadata": {},
   "outputs": [
    {
     "name": "stdout",
     "output_type": "stream",
     "text": [
      "pygame 2.6.0 (SDL 2.28.4, Python 3.11.5)\n",
      "Hello from the pygame community. https://www.pygame.org/contribute.html\n",
      "WARNING:tensorflow:From D:\\Anaconda\\Lib\\site-packages\\keras\\src\\losses.py:2976: The name tf.losses.sparse_softmax_cross_entropy is deprecated. Please use tf.compat.v1.losses.sparse_softmax_cross_entropy instead.\n",
      "\n"
     ]
    }
   ],
   "source": [
    "#importing all the libraries\n",
    "import pickle\n",
    "import numpy as np\n",
    "import warnings\n",
    "from numpy import asarray\n",
    "from PIL import Image\n",
    "import pygame\n",
    "import cv2\n",
    "import glob\n",
    "import time\n",
    "import os \n",
    "import random\n",
    "from PIL import Image\n",
    "import subprocess\n",
    "import matplotlib.pyplot as plt\n",
    "from skimage.io import imread\n",
    "import tensorflow as tf\n",
    "from tensorflow.keras.preprocessing.image import load_img, img_to_array, array_to_img\n",
    "from keras.preprocessing import image\n",
    "from keras.applications.imagenet_utils import preprocess_input\n",
    "from tensorflow import keras\n",
    "from tensorflow.keras import layers, models, Input, Model\n",
    "warnings.filterwarnings(\"ignore\")"
   ]
  },
  {
   "cell_type": "markdown",
   "id": "473d2f21",
   "metadata": {},
   "source": [
    "**Importing the trained model**"
   ]
  },
  {
   "cell_type": "code",
   "execution_count": 2,
   "id": "0b7dec50",
   "metadata": {},
   "outputs": [
    {
     "name": "stdout",
     "output_type": "stream",
     "text": [
      "WARNING:tensorflow:From D:\\Anaconda\\Lib\\site-packages\\keras\\src\\backend.py:1398: The name tf.executing_eagerly_outside_functions is deprecated. Please use tf.compat.v1.executing_eagerly_outside_functions instead.\n",
      "\n",
      "WARNING:tensorflow:From D:\\Anaconda\\Lib\\site-packages\\keras\\src\\layers\\pooling\\max_pooling2d.py:161: The name tf.nn.max_pool is deprecated. Please use tf.nn.max_pool2d instead.\n",
      "\n",
      "WARNING:tensorflow:From D:\\Anaconda\\Lib\\site-packages\\keras\\src\\optimizers\\__init__.py:309: The name tf.train.Optimizer is deprecated. Please use tf.compat.v1.train.Optimizer instead.\n",
      "\n"
     ]
    }
   ],
   "source": [
    "# Importing our trained model\n",
    "MY_model=pickle.load(open(\"driver_model.sav\",\"rb\"))"
   ]
  },
  {
   "cell_type": "markdown",
   "id": "f079ce53",
   "metadata": {},
   "source": [
    "**Function to monitor the driving**"
   ]
  },
  {
   "cell_type": "code",
   "execution_count": 3,
   "id": "e42778ac",
   "metadata": {},
   "outputs": [],
   "source": [
    "# Function to monitor the driving using opencv and play alert sound if not driving safe\n",
    "def play_alert_sound(sound_file):\n",
    "    pygame.init()\n",
    "    pygame.mixer.init()\n",
    "    alert_sound = pygame.mixer.Sound(sound_file)\n",
    "    alert_sound.play()\n",
    "    pygame.time.delay(int(alert_sound.get_length() * 1000))  # Delay while sound is playing\n",
    "    pygame.mixer.quit()\n",
    "\n",
    "# Function to monitor safe driving\n",
    "def monitor_safe_driving():\n",
    "    # Initialize parameters\n",
    "    sound_file = \"Alert.wav\"\n",
    "    capture_interval = 0.03125  # Interval between captures in seconds\n",
    "    batch_interval = 2  # Interval for forming batches in seconds\n",
    "    target_dim = (240, 240)  # Target dimension for resizing\n",
    "    \n",
    "    # OpenCV camera initialization\n",
    "    cap = cv2.VideoCapture(0)  # Change 0 to your camera index if you have multiple cameras\n",
    "    \n",
    "    # Check if camera opened successfully\n",
    "    if not cap.isOpened():\n",
    "        print(\"Error: Could not open camera.\")\n",
    "        return\n",
    "    \n",
    "    # Variables to manage batches\n",
    "    image_list = []  # List to store captured images for the current batch\n",
    "    start_time = time.time()  # Start time for tracking batch interval\n",
    "    \n",
    "    try:\n",
    "        while True:\n",
    "            # Capture frames at the specified interval\n",
    "            ret, frame = cap.read()\n",
    "            if not ret:\n",
    "                print(\"Error: Failed to capture image.\")\n",
    "                continue\n",
    "            \n",
    "            # Resize frame to target dimension if necessary\n",
    "            if frame.shape[:2] != target_dim:\n",
    "                frame = cv2.resize(frame, target_dim, interpolation=cv2.INTER_AREA)\n",
    "            \n",
    "            # Append to image list for the current batch\n",
    "            image_list.append(frame)\n",
    "            \n",
    "            # Check if batch interval (2 seconds) has passed\n",
    "            if time.time() - start_time >= batch_interval:\n",
    "                # Convert images to numpy array\n",
    "                images_array = np.array(image_list)\n",
    "                total_img = 0\n",
    "                safedrive_img = 0\n",
    "                \n",
    "                # Replace MY_model with your actual model for prediction\n",
    "                model_output = MY_model.predict(images_array)\n",
    "                \n",
    "                # Count safe driving images based on model output\n",
    "                for i in model_output:\n",
    "                    total_img += 1\n",
    "                    if i[1] > i[0] and i[1] > i[2] and i[1] > i[3] and i[1] > i[4]:\n",
    "                        safedrive_img += 1\n",
    "                \n",
    "                # Determine if alert should be triggered\n",
    "                if (total_img * 0.75) > safedrive_img:\n",
    "                    print(\"!!!ALERT DRIVE SAFE PLEASE!!!\")\n",
    "                    play_alert_sound(sound_file)\n",
    "                \n",
    "                # Reset for next batch\n",
    "                image_list = []\n",
    "                start_time = time.time()\n",
    "            \n",
    "            # Sleep to maintain the capture interval\n",
    "            time.sleep(max(0, capture_interval - (time.time() - start_time)))\n",
    "    \n",
    "    except KeyboardInterrupt:\n",
    "        print(\"Keyboard interrupt detected. Stopping image capture.\")\n",
    "        \n",
    "    finally:\n",
    "        # Release the camera and close windows\n",
    "        cap.release()\n",
    "        cv2.destroyAllWindows()"
   ]
  },
  {
   "cell_type": "markdown",
   "id": "67634d62",
   "metadata": {},
   "source": [
    "**Run cell below to start monitoring your driving**"
   ]
  },
  {
   "cell_type": "code",
   "execution_count": 4,
   "id": "4d5ede2d",
   "metadata": {},
   "outputs": [
    {
     "name": "stdout",
     "output_type": "stream",
     "text": [
      "2/2 [==============================] - 1s 257ms/step\n",
      "!!!ALERT DRIVE SAFE PLEASE!!!\n",
      "2/2 [==============================] - 1s 587ms/step\n",
      "!!!ALERT DRIVE SAFE PLEASE!!!\n",
      "2/2 [==============================] - 1s 543ms/step\n",
      "!!!ALERT DRIVE SAFE PLEASE!!!\n",
      "Keyboard interrupt detected. Stopping image capture.\n"
     ]
    }
   ],
   "source": [
    "# Start monitoring?\n",
    "monitor_safe_driving()"
   ]
  },
  {
   "cell_type": "markdown",
   "id": "e57ba328",
   "metadata": {},
   "source": [
    "<img src=\"https://images.pexels.com/photos/4439457/pexels-photo-4439457.jpeg?cs=srgb&dl=pexels-vie-studio-4439457.jpg&fm=jpg\" alt=\"Alt text\" style=\"width: 400px;\"/>\n"
   ]
  }
 ],
 "metadata": {
  "kernelspec": {
   "display_name": "Python 3 (ipykernel)",
   "language": "python",
   "name": "python3"
  },
  "language_info": {
   "codemirror_mode": {
    "name": "ipython",
    "version": 3
   },
   "file_extension": ".py",
   "mimetype": "text/x-python",
   "name": "python",
   "nbconvert_exporter": "python",
   "pygments_lexer": "ipython3",
   "version": "3.11.5"
  }
 },
 "nbformat": 4,
 "nbformat_minor": 5
}
